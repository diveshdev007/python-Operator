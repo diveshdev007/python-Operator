{
 "cells": [
  {
   "cell_type": "markdown",
   "id": "14474bfc",
   "metadata": {},
   "source": [
    "# Python Operators"
   ]
  },
  {
   "cell_type": "markdown",
   "id": "1e335345",
   "metadata": {},
   "source": [
    " 1.Arthimetic Operators"
   ]
  },
  {
   "cell_type": "code",
   "execution_count": 1,
   "id": "3a7041cb",
   "metadata": {},
   "outputs": [
    {
     "data": {
      "text/plain": [
       "3"
      ]
     },
     "execution_count": 1,
     "metadata": {},
     "output_type": "execute_result"
    }
   ],
   "source": [
    "1+2"
   ]
  },
  {
   "cell_type": "code",
   "execution_count": 2,
   "id": "8cc79f6c",
   "metadata": {},
   "outputs": [],
   "source": [
    "d1,d2 = 10,5"
   ]
  },
  {
   "cell_type": "code",
   "execution_count": 3,
   "id": "58f7132b",
   "metadata": {},
   "outputs": [
    {
     "data": {
      "text/plain": [
       "15"
      ]
     },
     "execution_count": 3,
     "metadata": {},
     "output_type": "execute_result"
    }
   ],
   "source": [
    "d1+d2"
   ]
  },
  {
   "cell_type": "code",
   "execution_count": 4,
   "id": "c1093227",
   "metadata": {},
   "outputs": [
    {
     "data": {
      "text/plain": [
       "5"
      ]
     },
     "execution_count": 4,
     "metadata": {},
     "output_type": "execute_result"
    }
   ],
   "source": [
    "d1-d2"
   ]
  },
  {
   "cell_type": "code",
   "execution_count": 6,
   "id": "5fffa315",
   "metadata": {},
   "outputs": [
    {
     "data": {
      "text/plain": [
       "50"
      ]
     },
     "execution_count": 6,
     "metadata": {},
     "output_type": "execute_result"
    }
   ],
   "source": [
    "d1*d2"
   ]
  },
  {
   "cell_type": "code",
   "execution_count": 7,
   "id": "5e729918",
   "metadata": {},
   "outputs": [
    {
     "data": {
      "text/plain": [
       "2.0"
      ]
     },
     "execution_count": 7,
     "metadata": {},
     "output_type": "execute_result"
    }
   ],
   "source": [
    "d1/d2"
   ]
  },
  {
   "cell_type": "code",
   "execution_count": 9,
   "id": "298da989",
   "metadata": {},
   "outputs": [
    {
     "data": {
      "text/plain": [
       "0"
      ]
     },
     "execution_count": 9,
     "metadata": {},
     "output_type": "execute_result"
    }
   ],
   "source": [
    "d1%d2"
   ]
  },
  {
   "cell_type": "code",
   "execution_count": 10,
   "id": "7697f3d3",
   "metadata": {},
   "outputs": [
    {
     "data": {
      "text/plain": [
       "100000"
      ]
     },
     "execution_count": 10,
     "metadata": {},
     "output_type": "execute_result"
    }
   ],
   "source": [
    "d1**d2"
   ]
  },
  {
   "cell_type": "markdown",
   "id": "5f1b7683",
   "metadata": {},
   "source": [
    "2.Assignment operators"
   ]
  },
  {
   "cell_type": "code",
   "execution_count": 11,
   "id": "2ca5fc54",
   "metadata": {},
   "outputs": [
    {
     "name": "stdout",
     "output_type": "stream",
     "text": [
      "x = 10\n",
      "x after += 5: 15\n",
      "x after -= 3: 12\n",
      "x after *= 2: 24\n",
      "x after /= 4: 6.0\n",
      "x after //= 2: 3.0\n",
      "x after %= 3: 0.0\n",
      "x after **= 4: 0.0\n"
     ]
    }
   ],
   "source": [
    "# Simple assignment\n",
    "x = 10   # Assigns 10 to x\n",
    "print(\"x =\", x)\n",
    "\n",
    "# Add and assign\n",
    "x += 5   # Equivalent to x = x + 5\n",
    "print(\"x after += 5:\", x)\n",
    "\n",
    "# Subtract and assign\n",
    "x -= 3   # Equivalent to x = x - 3\n",
    "print(\"x after -= 3:\", x)\n",
    "\n",
    "# Multiply and assign\n",
    "x *= 2   # Equivalent to x = x * 2\n",
    "print(\"x after *= 2:\", x)\n",
    "\n",
    "# Divide and assign\n",
    "x /= 4   # Equivalent to x = x / 4\n",
    "print(\"x after /= 4:\", x)\n",
    "\n",
    "# Floor divide and assign\n",
    "x //= 2  # Equivalent to x = x // 2\n",
    "print(\"x after //= 2:\", x)\n",
    "\n",
    "# Modulus and assign\n",
    "x %= 3   # Equivalent to x = x % 3\n",
    "print(\"x after %= 3:\", x)\n",
    "\n",
    "# Power and assign\n",
    "x **= 4  # Equivalent to x = x ** 4\n",
    "print(\"x after **= 4:\", x)\n"
   ]
  },
  {
   "cell_type": "markdown",
   "id": "0806d601",
   "metadata": {},
   "source": [
    "3.Uniary Operator"
   ]
  },
  {
   "cell_type": "code",
   "execution_count": 12,
   "id": "7f4cbbb9",
   "metadata": {},
   "outputs": [
    {
     "name": "stdout",
     "output_type": "stream",
     "text": [
      "5\n",
      "-5\n",
      "False\n",
      "True\n",
      "-6\n",
      "9\n"
     ]
    }
   ],
   "source": [
    "# Example values\n",
    "a = 5\n",
    "b = -10\n",
    "flag = True\n",
    "\n",
    "# Unary plus\n",
    "print(+a)  # 5\n",
    "\n",
    "# Unary minus\n",
    "print(-a)  # -5\n",
    "\n",
    "# Logical NOT\n",
    "print(not flag)   # False if flag is True\n",
    "print(not False)  # True\n",
    "\n",
    "# Bitwise NOT (~)\n",
    "print(~a)   # -6 (inverts all bits: ~5 = -6)\n",
    "print(~b)   # 9  (inverts all bits: ~(-10) = 9)\n"
   ]
  },
  {
   "cell_type": "markdown",
   "id": "ad1ff4a5",
   "metadata": {},
   "source": [
    "4.Reletional Oprators"
   ]
  },
  {
   "cell_type": "code",
   "execution_count": 13,
   "id": "b8a0585f",
   "metadata": {},
   "outputs": [
    {
     "name": "stdout",
     "output_type": "stream",
     "text": [
      "False\n",
      "True\n",
      "False\n",
      "True\n",
      "True\n",
      "False\n"
     ]
    }
   ],
   "source": [
    "a = 10\n",
    "b = 20\n",
    "\n",
    "print(a == b)   # False (10 is not equal to 20)\n",
    "print(a != b)   # True  (10 is not equal to 20)\n",
    "print(a > b)    # False\n",
    "print(a < b)    # True\n",
    "print(a >= 10)  # True\n",
    "print(b <= 15)  # False\n"
   ]
  },
  {
   "cell_type": "markdown",
   "id": "dd236fb6",
   "metadata": {},
   "source": [
    "5.Logical Operator"
   ]
  },
  {
   "cell_type": "code",
   "execution_count": 14,
   "id": "dc974ceb",
   "metadata": {},
   "outputs": [
    {
     "name": "stdout",
     "output_type": "stream",
     "text": [
      "True\n",
      "False\n",
      "True\n",
      "False\n",
      "False\n",
      "True\n"
     ]
    }
   ],
   "source": [
    "a = 10\n",
    "b = 20\n",
    "\n",
    "# and operator\n",
    "print(a > 5 and b > 15)   # True (both conditions true)\n",
    "print(a > 15 and b > 15)  # False (first condition false)\n",
    "\n",
    "# or operator\n",
    "print(a > 15 or b > 15)   # True (second condition true)\n",
    "print(a > 15 or b < 15)   # False (both false)\n",
    "\n",
    "# not operator\n",
    "print(not(a > 5))   # False (because a > 5 is True)\n",
    "print(not(a < 5))   # True  (because a < 5 is False)\n"
   ]
  },
  {
   "cell_type": "markdown",
   "id": "297f192c",
   "metadata": {},
   "source": [
    "6.Bitwise Operator"
   ]
  },
  {
   "cell_type": "code",
   "execution_count": 36,
   "id": "ba5dbafd",
   "metadata": {},
   "outputs": [
    {
     "name": "stdout",
     "output_type": "stream",
     "text": [
      "a & b = 0\n",
      "a | b = 14\n",
      "a ^ b = 14\n",
      "~a = -11\n",
      "a << 2 = 40\n",
      "a >> 1 = 5\n"
     ]
    }
   ],
   "source": [
    "a = 10  # binary: 1010\n",
    "b = 4   # binary: 0100\n",
    "\n",
    "print(\"a & b =\", a & b)   # Bitwise AND: 0 (0000)\n",
    "print(\"a | b =\", a | b)   # Bitwise OR: 14 (1110)\n",
    "print(\"a ^ b =\", a ^ b)   # Bitwise XOR: 14 (1110)\n",
    "print(\"~a =\", ~a)         # Bitwise NOT: -11 (two's complement)\n",
    "print(\"a << 2 =\", a << 2) # Left shift: 40 (101000)\n",
    "print(\"a >> 1 =\", a >> 1) # Right shift: 5 (0101)\n"
   ]
  },
  {
   "cell_type": "code",
   "execution_count": 37,
   "id": "ef2f2d26",
   "metadata": {},
   "outputs": [],
   "source": [
    "# Compliment Operator"
   ]
  },
  {
   "cell_type": "code",
   "execution_count": 38,
   "id": "5c41bf63",
   "metadata": {},
   "outputs": [
    {
     "data": {
      "text/plain": [
       "-46"
      ]
     },
     "execution_count": 38,
     "metadata": {},
     "output_type": "execute_result"
    }
   ],
   "source": [
    "~45"
   ]
  },
  {
   "cell_type": "code",
   "execution_count": 39,
   "id": "ff23f5aa",
   "metadata": {},
   "outputs": [
    {
     "data": {
      "text/plain": [
       "-56"
      ]
     },
     "execution_count": 39,
     "metadata": {},
     "output_type": "execute_result"
    }
   ],
   "source": [
    "~55"
   ]
  },
  {
   "cell_type": "code",
   "execution_count": null,
   "id": "476640c5",
   "metadata": {},
   "outputs": [],
   "source": [
    "# And Operator"
   ]
  },
  {
   "cell_type": "code",
   "execution_count": 43,
   "id": "13b1de1a",
   "metadata": {},
   "outputs": [
    {
     "data": {
      "text/plain": [
       "44"
      ]
     },
     "execution_count": 43,
     "metadata": {},
     "output_type": "execute_result"
    }
   ],
   "source": [
    "45 & 46"
   ]
  },
  {
   "cell_type": "code",
   "execution_count": null,
   "id": "bccf1deb",
   "metadata": {},
   "outputs": [],
   "source": [
    "#Or Operator"
   ]
  },
  {
   "cell_type": "code",
   "execution_count": 46,
   "id": "8c593f8b",
   "metadata": {},
   "outputs": [
    {
     "data": {
      "text/plain": [
       "492"
      ]
     },
     "execution_count": 46,
     "metadata": {},
     "output_type": "execute_result"
    }
   ],
   "source": [
    "200 | 300"
   ]
  },
  {
   "cell_type": "code",
   "execution_count": 54,
   "id": "c581fb9c",
   "metadata": {},
   "outputs": [
    {
     "data": {
      "text/plain": [
       "32"
      ]
     },
     "execution_count": 54,
     "metadata": {},
     "output_type": "execute_result"
    }
   ],
   "source": [
    "45 & 50"
   ]
  },
  {
   "cell_type": "code",
   "execution_count": null,
   "id": "aee96e69",
   "metadata": {},
   "outputs": [],
   "source": []
  },
  {
   "cell_type": "markdown",
   "id": "94b9bb8f",
   "metadata": {},
   "source": [
    "# Number System Conversion"
   ]
  },
  {
   "cell_type": "markdown",
   "id": "73665f6a",
   "metadata": {},
   "source": [
    "1.Binary"
   ]
  },
  {
   "cell_type": "code",
   "execution_count": 15,
   "id": "be589d4f",
   "metadata": {},
   "outputs": [
    {
     "data": {
      "text/plain": [
       "25"
      ]
     },
     "execution_count": 15,
     "metadata": {},
     "output_type": "execute_result"
    }
   ],
   "source": [
    "25"
   ]
  },
  {
   "cell_type": "code",
   "execution_count": 16,
   "id": "04ee3527",
   "metadata": {},
   "outputs": [
    {
     "data": {
      "text/plain": [
       "'0b11001'"
      ]
     },
     "execution_count": 16,
     "metadata": {},
     "output_type": "execute_result"
    }
   ],
   "source": [
    "bin(25)"
   ]
  },
  {
   "cell_type": "code",
   "execution_count": 17,
   "id": "7e45f769",
   "metadata": {},
   "outputs": [
    {
     "data": {
      "text/plain": [
       "25"
      ]
     },
     "execution_count": 17,
     "metadata": {},
     "output_type": "execute_result"
    }
   ],
   "source": [
    "int(0b11001)"
   ]
  },
  {
   "cell_type": "code",
   "execution_count": 18,
   "id": "2d50ec55",
   "metadata": {},
   "outputs": [
    {
     "data": {
      "text/plain": [
       "'0b11110'"
      ]
     },
     "execution_count": 18,
     "metadata": {},
     "output_type": "execute_result"
    }
   ],
   "source": [
    "bin(30)"
   ]
  },
  {
   "cell_type": "markdown",
   "id": "b608fb45",
   "metadata": {},
   "source": [
    "2.Octal"
   ]
  },
  {
   "cell_type": "code",
   "execution_count": 19,
   "id": "94304eec",
   "metadata": {},
   "outputs": [
    {
     "data": {
      "text/plain": [
       "'0o31'"
      ]
     },
     "execution_count": 19,
     "metadata": {},
     "output_type": "execute_result"
    }
   ],
   "source": [
    "oct(25)"
   ]
  },
  {
   "cell_type": "markdown",
   "id": "2d9879b1",
   "metadata": {},
   "source": [
    "3.Hexadecimal"
   ]
  },
  {
   "cell_type": "code",
   "execution_count": 20,
   "id": "09d3a995",
   "metadata": {},
   "outputs": [
    {
     "data": {
      "text/plain": [
       "'0x19'"
      ]
     },
     "execution_count": 20,
     "metadata": {},
     "output_type": "execute_result"
    }
   ],
   "source": [
    "hex(25)"
   ]
  },
  {
   "cell_type": "markdown",
   "id": "b7c54d43",
   "metadata": {},
   "source": [
    "#  How to Swap 2 variables in Python"
   ]
  },
  {
   "cell_type": "code",
   "execution_count": 21,
   "id": "92857cf5",
   "metadata": {},
   "outputs": [],
   "source": [
    "a = 10\n",
    "b = 20"
   ]
  },
  {
   "cell_type": "code",
   "execution_count": 31,
   "id": "84e2e64a",
   "metadata": {},
   "outputs": [],
   "source": [
    "a = b\n",
    "b = a"
   ]
  },
  {
   "cell_type": "code",
   "execution_count": 32,
   "id": "a76e98d0",
   "metadata": {},
   "outputs": [
    {
     "name": "stdout",
     "output_type": "stream",
     "text": [
      "20\n",
      "20\n"
     ]
    }
   ],
   "source": [
    "print(a)\n",
    "print(b)"
   ]
  },
  {
   "cell_type": "code",
   "execution_count": 33,
   "id": "2085b939",
   "metadata": {},
   "outputs": [],
   "source": [
    "a1 = 100\n",
    "b1 = 200"
   ]
  },
  {
   "cell_type": "code",
   "execution_count": 34,
   "id": "0b633b57",
   "metadata": {},
   "outputs": [],
   "source": [
    "temp = a1\n",
    "a1 = b1\n",
    "b1 = temp"
   ]
  },
  {
   "cell_type": "code",
   "execution_count": 35,
   "id": "3a651da7",
   "metadata": {},
   "outputs": [
    {
     "name": "stdout",
     "output_type": "stream",
     "text": [
      "200\n",
      "100\n"
     ]
    }
   ],
   "source": [
    "print(a1)\n",
    "print(b1)"
   ]
  },
  {
   "cell_type": "code",
   "execution_count": null,
   "id": "3eaba157",
   "metadata": {},
   "outputs": [],
   "source": []
  }
 ],
 "metadata": {
  "kernelspec": {
   "display_name": "Python 3 (ipykernel)",
   "language": "python",
   "name": "python3"
  },
  "language_info": {
   "codemirror_mode": {
    "name": "ipython",
    "version": 3
   },
   "file_extension": ".py",
   "mimetype": "text/x-python",
   "name": "python",
   "nbconvert_exporter": "python",
   "pygments_lexer": "ipython3",
   "version": "3.11.5"
  }
 },
 "nbformat": 4,
 "nbformat_minor": 5
}
